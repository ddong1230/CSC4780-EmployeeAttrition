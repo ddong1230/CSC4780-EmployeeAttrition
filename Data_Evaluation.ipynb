{
 "cells": [
  {
   "cell_type": "code",
   "execution_count": 64,
   "id": "df2eb917",
   "metadata": {},
   "outputs": [],
   "source": [
    "import pandas as pd\n",
    "import numpy as np\n",
    "import seaborn as sns\n",
    "import matplotlib.pyplot as plt"
   ]
  },
  {
   "cell_type": "code",
   "execution_count": 65,
   "id": "59cea5a7",
   "metadata": {},
   "outputs": [
    {
     "data": {
      "text/html": [
       "<div>\n",
       "<style scoped>\n",
       "    .dataframe tbody tr th:only-of-type {\n",
       "        vertical-align: middle;\n",
       "    }\n",
       "\n",
       "    .dataframe tbody tr th {\n",
       "        vertical-align: top;\n",
       "    }\n",
       "\n",
       "    .dataframe thead th {\n",
       "        text-align: right;\n",
       "    }\n",
       "</style>\n",
       "<table border=\"1\" class=\"dataframe\">\n",
       "  <thead>\n",
       "    <tr style=\"text-align: right;\">\n",
       "      <th></th>\n",
       "      <th>Age</th>\n",
       "      <th>Attrition</th>\n",
       "      <th>BusinessTravel</th>\n",
       "      <th>DistanceFromHome</th>\n",
       "      <th>Education</th>\n",
       "      <th>EnvironmentSatisfaction</th>\n",
       "      <th>Gender</th>\n",
       "      <th>JobInvolvement</th>\n",
       "      <th>JobLevel</th>\n",
       "      <th>JobSatisfaction</th>\n",
       "      <th>...</th>\n",
       "      <th>Age_bin</th>\n",
       "      <th>DistanceFromHome_bin</th>\n",
       "      <th>MonthlyIncome_bin</th>\n",
       "      <th>NumCompaniesWorked_bin</th>\n",
       "      <th>TotalWorkingYears_bin</th>\n",
       "      <th>TrainingTimesLastYear_bin</th>\n",
       "      <th>YearsAtCompany_bin</th>\n",
       "      <th>YearsInCurrentRole_bin</th>\n",
       "      <th>YearsSinceLastPromotion_bin</th>\n",
       "      <th>YearsWithCurrManager_bin</th>\n",
       "    </tr>\n",
       "  </thead>\n",
       "  <tbody>\n",
       "    <tr>\n",
       "      <th>0</th>\n",
       "      <td>0.547619</td>\n",
       "      <td>1</td>\n",
       "      <td>1</td>\n",
       "      <td>0.000000</td>\n",
       "      <td>2</td>\n",
       "      <td>2</td>\n",
       "      <td>0</td>\n",
       "      <td>3</td>\n",
       "      <td>2</td>\n",
       "      <td>4</td>\n",
       "      <td>...</td>\n",
       "      <td>3</td>\n",
       "      <td>1</td>\n",
       "      <td>2</td>\n",
       "      <td>5</td>\n",
       "      <td>2</td>\n",
       "      <td>1</td>\n",
       "      <td>2</td>\n",
       "      <td>2</td>\n",
       "      <td>1</td>\n",
       "      <td>2</td>\n",
       "    </tr>\n",
       "    <tr>\n",
       "      <th>1</th>\n",
       "      <td>0.738095</td>\n",
       "      <td>0</td>\n",
       "      <td>2</td>\n",
       "      <td>0.250000</td>\n",
       "      <td>1</td>\n",
       "      <td>3</td>\n",
       "      <td>1</td>\n",
       "      <td>2</td>\n",
       "      <td>2</td>\n",
       "      <td>2</td>\n",
       "      <td>...</td>\n",
       "      <td>4</td>\n",
       "      <td>2</td>\n",
       "      <td>2</td>\n",
       "      <td>1</td>\n",
       "      <td>2</td>\n",
       "      <td>4</td>\n",
       "      <td>3</td>\n",
       "      <td>3</td>\n",
       "      <td>1</td>\n",
       "      <td>3</td>\n",
       "    </tr>\n",
       "    <tr>\n",
       "      <th>2</th>\n",
       "      <td>0.452381</td>\n",
       "      <td>1</td>\n",
       "      <td>1</td>\n",
       "      <td>0.035714</td>\n",
       "      <td>2</td>\n",
       "      <td>4</td>\n",
       "      <td>1</td>\n",
       "      <td>2</td>\n",
       "      <td>1</td>\n",
       "      <td>3</td>\n",
       "      <td>...</td>\n",
       "      <td>3</td>\n",
       "      <td>1</td>\n",
       "      <td>1</td>\n",
       "      <td>4</td>\n",
       "      <td>2</td>\n",
       "      <td>4</td>\n",
       "      <td>1</td>\n",
       "      <td>1</td>\n",
       "      <td>1</td>\n",
       "      <td>1</td>\n",
       "    </tr>\n",
       "    <tr>\n",
       "      <th>3</th>\n",
       "      <td>0.357143</td>\n",
       "      <td>0</td>\n",
       "      <td>2</td>\n",
       "      <td>0.071429</td>\n",
       "      <td>4</td>\n",
       "      <td>4</td>\n",
       "      <td>0</td>\n",
       "      <td>3</td>\n",
       "      <td>1</td>\n",
       "      <td>3</td>\n",
       "      <td>...</td>\n",
       "      <td>2</td>\n",
       "      <td>1</td>\n",
       "      <td>1</td>\n",
       "      <td>1</td>\n",
       "      <td>2</td>\n",
       "      <td>4</td>\n",
       "      <td>3</td>\n",
       "      <td>3</td>\n",
       "      <td>2</td>\n",
       "      <td>1</td>\n",
       "    </tr>\n",
       "    <tr>\n",
       "      <th>4</th>\n",
       "      <td>0.214286</td>\n",
       "      <td>0</td>\n",
       "      <td>1</td>\n",
       "      <td>0.035714</td>\n",
       "      <td>1</td>\n",
       "      <td>1</td>\n",
       "      <td>1</td>\n",
       "      <td>3</td>\n",
       "      <td>1</td>\n",
       "      <td>2</td>\n",
       "      <td>...</td>\n",
       "      <td>2</td>\n",
       "      <td>1</td>\n",
       "      <td>1</td>\n",
       "      <td>5</td>\n",
       "      <td>2</td>\n",
       "      <td>4</td>\n",
       "      <td>1</td>\n",
       "      <td>1</td>\n",
       "      <td>2</td>\n",
       "      <td>1</td>\n",
       "    </tr>\n",
       "  </tbody>\n",
       "</table>\n",
       "<p>5 rows × 33 columns</p>\n",
       "</div>"
      ],
      "text/plain": [
       "        Age  Attrition  BusinessTravel  DistanceFromHome  Education  \\\n",
       "0  0.547619          1               1          0.000000          2   \n",
       "1  0.738095          0               2          0.250000          1   \n",
       "2  0.452381          1               1          0.035714          2   \n",
       "3  0.357143          0               2          0.071429          4   \n",
       "4  0.214286          0               1          0.035714          1   \n",
       "\n",
       "   EnvironmentSatisfaction  Gender  JobInvolvement  JobLevel  JobSatisfaction  \\\n",
       "0                        2       0               3         2                4   \n",
       "1                        3       1               2         2                2   \n",
       "2                        4       1               2         1                3   \n",
       "3                        4       0               3         1                3   \n",
       "4                        1       1               3         1                2   \n",
       "\n",
       "   ...  Age_bin  DistanceFromHome_bin  MonthlyIncome_bin  \\\n",
       "0  ...        3                     1                  2   \n",
       "1  ...        4                     2                  2   \n",
       "2  ...        3                     1                  1   \n",
       "3  ...        2                     1                  1   \n",
       "4  ...        2                     1                  1   \n",
       "\n",
       "   NumCompaniesWorked_bin  TotalWorkingYears_bin  TrainingTimesLastYear_bin  \\\n",
       "0                       5                      2                          1   \n",
       "1                       1                      2                          4   \n",
       "2                       4                      2                          4   \n",
       "3                       1                      2                          4   \n",
       "4                       5                      2                          4   \n",
       "\n",
       "   YearsAtCompany_bin  YearsInCurrentRole_bin  YearsSinceLastPromotion_bin  \\\n",
       "0                   2                       2                            1   \n",
       "1                   3                       3                            1   \n",
       "2                   1                       1                            1   \n",
       "3                   3                       3                            2   \n",
       "4                   1                       1                            2   \n",
       "\n",
       "   YearsWithCurrManager_bin  \n",
       "0                         2  \n",
       "1                         3  \n",
       "2                         1  \n",
       "3                         1  \n",
       "4                         1  \n",
       "\n",
       "[5 rows x 33 columns]"
      ]
     },
     "execution_count": 65,
     "metadata": {},
     "output_type": "execute_result"
    }
   ],
   "source": [
    "df = pd.read_csv('HR-Employee-Attrition_Preprocessed.csv')\n",
    "df_final = df.copy()\n",
    "df.head()"
   ]
  },
  {
   "cell_type": "markdown",
   "id": "3e1a5aec",
   "metadata": {},
   "source": [
    "## Data Modeling\n",
    "1. Split the dataset into two: one containing the binned continuous features, one with the original continuous features\n",
    "2. Build the data model with 67% training and 33% testing"
   ]
  },
  {
   "cell_type": "code",
   "execution_count": 66,
   "id": "8a41d4e3",
   "metadata": {},
   "outputs": [
    {
     "name": "stdout",
     "output_type": "stream",
     "text": [
      "['BusinessTravel', 'Education', 'EnvironmentSatisfaction', 'Gender', 'JobInvolvement', 'JobLevel', 'JobSatisfaction', 'MaritalStatus', 'OverTime', 'PerformanceRating', 'RelationshipSatisfaction', 'WorkLifeBalance', 'Age_bin', 'DistanceFromHome_bin', 'MonthlyIncome_bin', 'NumCompaniesWorked_bin', 'TotalWorkingYears_bin', 'TrainingTimesLastYear_bin', 'YearsAtCompany_bin', 'YearsInCurrentRole_bin', 'YearsSinceLastPromotion_bin', 'YearsWithCurrManager_bin']\n",
      "['Age', 'BusinessTravel', 'DistanceFromHome', 'Education', 'EnvironmentSatisfaction', 'Gender', 'JobInvolvement', 'JobLevel', 'JobSatisfaction', 'MaritalStatus', 'MonthlyIncome', 'NumCompaniesWorked', 'OverTime', 'PerformanceRating', 'RelationshipSatisfaction', 'TotalWorkingYears', 'TrainingTimesLastYear', 'WorkLifeBalance', 'YearsAtCompany', 'YearsInCurrentRole', 'YearsSinceLastPromotion', 'YearsWithCurrManager']\n"
     ]
    }
   ],
   "source": [
    "target_feature = 'Attrition'\n",
    "desc_bin = []\n",
    "desc_ori = []\n",
    "\n",
    "cont_features = ['Age', 'DistanceFromHome', 'MonthlyIncome', 'NumCompaniesWorked', \n",
    "                        'TotalWorkingYears', 'TrainingTimesLastYear', 'YearsAtCompany', \n",
    "                        'YearsInCurrentRole', 'YearsSinceLastPromotion', 'YearsWithCurrManager']\n",
    "\n",
    "for col in df_final:\n",
    "    if col not in cont_features:\n",
    "        desc_bin.append(col)\n",
    "    if '_bin' not in col:\n",
    "        desc_ori.append(col)\n",
    "\n",
    "desc_bin.pop(0)\n",
    "desc_ori.pop(1)\n",
    "\n",
    "print(desc_bin)\n",
    "print(desc_ori)"
   ]
  },
  {
   "cell_type": "code",
   "execution_count": 67,
   "id": "85438daf",
   "metadata": {},
   "outputs": [],
   "source": [
    "from sklearn.model_selection import train_test_split\n",
    "from sklearn.metrics import accuracy_score, confusion_matrix, classification_report\n",
    "\n",
    "X_train, X_test, Y_train, Y_test = train_test_split(df_final[desc_ori], df_final[target_feature],  \n",
    "                                                    test_size=0.33, random_state=65)"
   ]
  },
  {
   "cell_type": "markdown",
   "id": "5ea30c1e",
   "metadata": {},
   "source": [
    "## Data Evaluation"
   ]
  },
  {
   "cell_type": "markdown",
   "id": "c0b44b87",
   "metadata": {},
   "source": [
    "#### KNN"
   ]
  },
  {
   "cell_type": "code",
   "execution_count": 68,
   "id": "1e616857",
   "metadata": {},
   "outputs": [
    {
     "name": "stdout",
     "output_type": "stream",
     "text": [
      "Max accuracy: 0.8395061728395061\n",
      "K: 9\n"
     ]
    },
    {
     "data": {
      "image/png": "[encoded data removed]",
      "text/plain": [
       "<Figure size 720x432 with 1 Axes>"
      ]
     },
     "metadata": {
      "needs_background": "light"
     },
     "output_type": "display_data"
    }
   ],
   "source": [
    "from sklearn.neighbors import KNeighborsClassifier\n",
    "\n",
    "# Search for the best k\n",
    "scores = []\n",
    "for i in range(1, 30):\n",
    "    neigh = KNeighborsClassifier(n_neighbors=i)\n",
    "    neigh.fit(X_train, Y_train)\n",
    "    y_pred = neigh.predict(X_test)\n",
    "    scores.append(accuracy_score(Y_test, y_pred))\n",
    "\n",
    "k = scores.index(max(scores)) + 1\n",
    "plt.figure(figsize=(10, 6))\n",
    "plt.plot(range(1, 30), scores)\n",
    "plt.xlabel('K Neighbors')\n",
    "plt.ylabel('Accuracy Score')\n",
    "\n",
    "print('Max accuracy: {}'.format(max(scores)))\n",
    "print('K: {}'.format(k))\n",
    "plt.show()"
   ]
  },
  {
   "cell_type": "code",
   "execution_count": 69,
   "id": "09f063f7",
   "metadata": {},
   "outputs": [
    {
     "name": "stdout",
     "output_type": "stream",
     "text": [
      "              precision    recall  f1-score   support\n",
      "\n",
      "           0       0.84      0.99      0.91       405\n",
      "           1       0.64      0.09      0.15        81\n",
      "\n",
      "    accuracy                           0.84       486\n",
      "   macro avg       0.74      0.54      0.53       486\n",
      "weighted avg       0.81      0.84      0.78       486\n",
      "\n"
     ]
    },
    {
     "data": {
      "image/png": "[encoded data removed]",
      "text/plain": [
       "<Figure size 432x288 with 2 Axes>"
      ]
     },
     "metadata": {
      "needs_background": "light"
     },
     "output_type": "display_data"
    }
   ],
   "source": [
    "neigh = KNeighborsClassifier(n_neighbors=k)\n",
    "neigh.fit(X_train, Y_train)\n",
    "y_pred = neigh.predict(X_test)\n",
    "\n",
    "cm = confusion_matrix(y_pred, Y_test)\n",
    "sns.heatmap(cm, annot=True)\n",
    "\n",
    "print(classification_report(Y_test, y_pred))"
   ]
  },
  {
   "cell_type": "markdown",
   "id": "ee6b4116",
   "metadata": {},
   "source": [
    "#### Random Forest"
   ]
  },
  {
   "cell_type": "code",
   "execution_count": 70,
   "id": "034ac8fe",
   "metadata": {},
   "outputs": [
    {
     "name": "stdout",
     "output_type": "stream",
     "text": [
      "              precision    recall  f1-score   support\n",
      "\n",
      "           0       0.85      0.98      0.91       405\n",
      "           1       0.57      0.15      0.24        81\n",
      "\n",
      "    accuracy                           0.84       486\n",
      "   macro avg       0.71      0.56      0.57       486\n",
      "weighted avg       0.80      0.84      0.80       486\n",
      "\n"
     ]
    },
    {
     "data": {
      "image/png": "[encoded data removed]",
      "text/plain": [
       "<Figure size 432x288 with 2 Axes>"
      ]
     },
     "metadata": {
      "needs_background": "light"
     },
     "output_type": "display_data"
    }
   ],
   "source": [
    "from sklearn.ensemble import RandomForestClassifier\n",
    "\n",
    "random_forest = RandomForestClassifier()\n",
    "random_forest.fit(X_train, Y_train)\n",
    "y_pred = random_forest.predict(X_test)\n",
    "\n",
    "cm = confusion_matrix(y_pred, Y_test)\n",
    "sns.heatmap(cm, annot=True)\n",
    "\n",
    "print(classification_report(Y_test, y_pred))"
   ]
  },
  {
   "cell_type": "markdown",
   "id": "b80d4a8d",
   "metadata": {},
   "source": [
    "#### Naive Bayes"
   ]
  },
  {
   "cell_type": "code",
   "execution_count": 71,
   "id": "331309ce",
   "metadata": {},
   "outputs": [],
   "source": [
    "# For Categorical Naive Bayes, we need to use the binned version of the dataset\n",
    "\n",
    "X_train, X_test, Y_train, Y_test = train_test_split(df_final[desc_bin], df_final[target_feature],  \n",
    "                                                    test_size=0.33, random_state=65)"
   ]
  },
  {
   "cell_type": "code",
   "execution_count": 72,
   "id": "2374b558",
   "metadata": {},
   "outputs": [
    {
     "name": "stdout",
     "output_type": "stream",
     "text": [
      "              precision    recall  f1-score   support\n",
      "\n",
      "           0       0.87      0.83      0.85       405\n",
      "           1       0.32      0.40      0.36        81\n",
      "\n",
      "    accuracy                           0.76       486\n",
      "   macro avg       0.60      0.61      0.60       486\n",
      "weighted avg       0.78      0.76      0.77       486\n",
      "\n"
     ]
    },
    {
     "data": {
      "image/png": "[encoded data removed]",
      "text/plain": [
       "<Figure size 432x288 with 2 Axes>"
      ]
     },
     "metadata": {
      "needs_background": "light"
     },
     "output_type": "display_data"
    }
   ],
   "source": [
    "from sklearn.naive_bayes import CategoricalNB\n",
    "\n",
    "catNB = CategoricalNB()\n",
    "catNB.fit(X_train,Y_train)\n",
    "y_pred = catNB.predict(X_test)\n",
    "\n",
    "cm = confusion_matrix(y_pred, Y_test)\n",
    "sns.heatmap(cm, annot=True)\n",
    "\n",
    "print(classification_report(Y_test, y_pred))"
   ]
  }
 ],
 "metadata": {
  "kernelspec": {
   "display_name": "Python 3.9.12 ('base')",
   "language": "python",
   "name": "python3"
  },
  "language_info": {
   "codemirror_mode": {
    "name": "ipython",
    "version": 3
   },
   "file_extension": ".py",
   "mimetype": "text/x-python",
   "name": "python",
   "nbconvert_exporter": "python",
   "pygments_lexer": "ipython3",
   "version": "3.9.12"
  },
  "vscode": {
   "interpreter": {
    "hash": "66ab87c5544fc6db13c64f97bfe602acaa7473938449ac42fc291f2a1d10efc6"
   }
  }
 },
 "nbformat": 4,
 "nbformat_minor": 5
}
